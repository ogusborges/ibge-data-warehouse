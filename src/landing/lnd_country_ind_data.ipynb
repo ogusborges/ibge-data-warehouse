{
 "cells": [
  {
   "cell_type": "markdown",
   "metadata": {},
   "source": [
    "<h2>lnd_country_ind_data</h2>\n",
    "<p>Recover the country indicators data from IBGE Paises API web page with BeautifulSoup</p>\n",
    "<p>Source: https://servicodados.ibge.gov.br/api/docs/paises<br>\n",
    "Destination: s3://bucket/lnd/ibge/country_params </p>"
   ]
  },
  {
   "cell_type": "markdown",
   "metadata": {},
   "source": []
  }
 ],
 "metadata": {
  "language_info": {
   "name": "python"
  },
  "orig_nbformat": 4
 },
 "nbformat": 4,
 "nbformat_minor": 2
}
