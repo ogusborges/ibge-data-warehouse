{
 "cells": [
  {
   "cell_type": "markdown",
   "id": "770a236b-e827-4d36-92f2-bf080fa605a5",
   "metadata": {},
   "source": [
    "<h2>lnd_country_params</h2>\n",
    "<p>Recover the country params from IBGE Paises API web page with BeautifulSoup</p>\n",
    "<p>Source: https://servicodados.ibge.gov.br/api/docs/paises<br>\n",
    "Destination: s3://bucket/lnd/ibge/country_params </p>"
   ]
  },
  {
   "cell_type": "code",
   "execution_count": 113,
   "id": "c4936d2e-a45f-46c2-bd60-c1a4916bee40",
   "metadata": {},
   "outputs": [],
   "source": [
    "from bs4 import BeautifulSoup\n",
    "from datetime import datetime\n",
    "\n",
    "import configparser as cp\n",
    "import requests as re\n",
    "import pandas as pd\n",
    "import pandera as pa"
   ]
  },
  {
   "cell_type": "markdown",
   "id": "68fa1ee3-af66-4072-a90f-6d7a7c9e3621",
   "metadata": {},
   "source": [
    "<h3>Process parameters</h3>\n"
   ]
  },
  {
   "cell_type": "code",
   "execution_count": 100,
   "id": "c7318ec2-98e3-4ec8-975a-02f8ae06f665",
   "metadata": {},
   "outputs": [],
   "source": [
    "table = {\n",
    "    'schema': 'ibge',\n",
    "    'name': 'country_params',\n",
    "    'type': 'api'\n",
    "}\n",
    "\n",
    "storage = {\n",
    "    'landing': 'lnd',\n",
    "    'raw': 'raw',\n",
    "    'trusted': 'trs',\n",
    "    'refined': 'rfn'\n",
    "}"
   ]
  },
  {
   "cell_type": "markdown",
   "id": "378f9091-88b9-4bd5-87fb-de6172243d00",
   "metadata": {},
   "source": [
    "<h3>Recover environment variables</h3>"
   ]
  },
  {
   "cell_type": "code",
   "execution_count": 101,
   "id": "fe01e42f-6c16-4276-9b78-397a24f8b387",
   "metadata": {},
   "outputs": [
    {
     "data": {
      "text/plain": [
       "['../config.cfg']"
      ]
     },
     "execution_count": 101,
     "metadata": {},
     "output_type": "execute_result"
    }
   ],
   "source": [
    "cfg = cp.ConfigParser()\n",
    "cfg.read('../config.cfg')"
   ]
  },
  {
   "cell_type": "markdown",
   "id": "2db060cd-c07a-4bf7-89a4-abec5b31c529",
   "metadata": {},
   "source": [
    "<h3>Define source and sink variables</h3>"
   ]
  },
  {
   "cell_type": "code",
   "execution_count": 134,
   "id": "17edad74-7951-4018-bbf4-277fd0324cd1",
   "metadata": {},
   "outputs": [],
   "source": [
    "src = f\"https://servicodados.ibge.gov.br/api/docs/paises\"\n",
    "sink = f\"s3://{cfg['s3']['bucket_name']}/{storage['landing']}/{table['schema']}/{table['name']}_{datetime.utcnow().strftime('%y%m%d_%H%M%S')}.csv\""
   ]
  },
  {
   "cell_type": "markdown",
   "id": "c9aa68cf-3183-4d8a-b5f3-2cee8fabe7b9",
   "metadata": {},
   "source": [
    "<h3>Scrap web page</h3>"
   ]
  },
  {
   "cell_type": "code",
   "execution_count": 103,
   "id": "7540e056-0b0c-4746-bda6-ec57e950914b",
   "metadata": {},
   "outputs": [],
   "source": [
    "page = re.get(src)\n",
    "sp = BeautifulSoup(page.text, 'html.parser')"
   ]
  },
  {
   "cell_type": "code",
   "execution_count": 104,
   "id": "d7e1e2a9-29f0-41bd-824d-2640d8b78b54",
   "metadata": {},
   "outputs": [],
   "source": [
    "countries = sp.find(id='ACERVO-container').find_all('label')"
   ]
  },
  {
   "cell_type": "code",
   "execution_count": 105,
   "id": "3a58b8f9-e5b3-43fd-bfc6-3a6ebfdad343",
   "metadata": {},
   "outputs": [],
   "source": [
    "initials = []\n",
    "names = []\n",
    "\n",
    "for country in countries:\n",
    "    initial = country.find('span')\n",
    "    \n",
    "    if initial.get('class')[0] == 'iden2':\n",
    "        initials.append(initial.contents[0])\n",
    "        initial.decompose()\n",
    "        \n",
    "        names.append(country.contents[0].replace(' - ', ''))"
   ]
  },
  {
   "cell_type": "markdown",
   "id": "03fbd5e8-3206-4712-88df-4ca0d0d58573",
   "metadata": {},
   "source": [
    "<h3>Create, dedup and validate dataframe</h3>"
   ]
  },
  {
   "cell_type": "code",
   "execution_count": 108,
   "id": "b5b2e25b-dad1-480c-8b26-c3d3e86880e9",
   "metadata": {},
   "outputs": [],
   "source": [
    "df = pd.DataFrame(\n",
    "    [[initials[i], names[i]] for i in range(0, len(initials))], columns=['country_initial', 'country_name']\n",
    "    )\n",
    "\n",
    "df = df.drop_duplicates()"
   ]
  },
  {
   "cell_type": "code",
   "execution_count": 129,
   "id": "aa3d2d20-f38c-48ed-af05-e148133930e9",
   "metadata": {},
   "outputs": [],
   "source": [
    "schema = pa.DataFrameSchema(\n",
    "    {\n",
    "        'country_initial': pa.Column('str', checks=[pa.Check.str_length(min_value=2, max_value=2)], nullable=False),\n",
    "        'country_name': pa.Column('str', checks=[pa.Check.str_length(min_value=0, max_value=40)], nullable=False)\n",
    "    }\n",
    ")\n",
    "\n",
    "df = schema.validate(df)"
   ]
  },
  {
   "cell_type": "markdown",
   "id": "7d9df8f4-da10-48fd-b9e5-7fb28dda4b67",
   "metadata": {},
   "source": [
    "<h3>Write to sink</h3>"
   ]
  },
  {
   "cell_type": "code",
   "execution_count": 137,
   "id": "6fe566cb-a3d3-44e8-b89b-c8ecbfd83999",
   "metadata": {},
   "outputs": [],
   "source": [
    "df.to_csv(path_or_buf=sink,\n",
    "          encoding='UTF-8',\n",
    "          sep=';',\n",
    "          index=False,\n",
    "            storage_options={\n",
    "                \"key\": cfg['s3']['access_key'],\n",
    "                \"secret\": cfg['s3']['secret_key']\n",
    "            })"
   ]
  }
 ],
 "metadata": {
  "kernelspec": {
   "display_name": "Python 3 (ipykernel)",
   "language": "python",
   "name": "python3"
  },
  "language_info": {
   "codemirror_mode": {
    "name": "ipython",
    "version": 3
   },
   "file_extension": ".py",
   "mimetype": "text/x-python",
   "name": "python",
   "nbconvert_exporter": "python",
   "pygments_lexer": "ipython3",
   "version": "3.9.7"
  }
 },
 "nbformat": 4,
 "nbformat_minor": 5
}
